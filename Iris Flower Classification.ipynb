{
 "cells": [
  {
   "cell_type": "markdown",
   "id": "7ef12d17-dcf0-4864-9d18-ec21c6d32261",
   "metadata": {},
   "source": [
    "**Name: Prithvi R**"
   ]
  },
  {
   "cell_type": "markdown",
   "id": "64e8031c-4952-489b-90c8-49163ef0dfe2",
   "metadata": {},
   "source": [
    "**Reg.No: URK21CS1102**"
   ]
  },
  {
   "cell_type": "markdown",
   "id": "e361c88d-03c9-4318-9005-2419bdc65e12",
   "metadata": {},
   "source": [
    "**Institution: Karunya Institute of Technology and Sciences**"
   ]
  },
  {
   "cell_type": "markdown",
   "id": "831284d6-0740-4535-9065-0bda8e3dbaa8",
   "metadata": {},
   "source": [
    "**Batch: A58 (June-July)**"
   ]
  },
  {
   "cell_type": "markdown",
   "id": "f2553cf8-8bfd-4c94-bd8f-e3161903ceca",
   "metadata": {},
   "source": [
    "**TASK 3**"
   ]
  },
  {
   "cell_type": "code",
   "execution_count": 1,
   "id": "60da6729-e027-40b6-971b-d792e29079e1",
   "metadata": {},
   "outputs": [],
   "source": [
    "import pandas as pd\n",
    "import numpy as np\n",
    "from sklearn.model_selection import train_test_split\n",
    "from sklearn.metrics import confusion_matrix, accuracy_score\n",
    "from sklearn.tree import DecisionTreeClassifier\n",
    "import matplotlib.pyplot as plt"
   ]
  },
  {
   "cell_type": "code",
   "execution_count": 2,
   "id": "3e819dc8-ec40-488e-96de-e1c4ffc802b0",
   "metadata": {},
   "outputs": [
    {
     "data": {
      "text/html": [
       "<div>\n",
       "<style scoped>\n",
       "    .dataframe tbody tr th:only-of-type {\n",
       "        vertical-align: middle;\n",
       "    }\n",
       "\n",
       "    .dataframe tbody tr th {\n",
       "        vertical-align: top;\n",
       "    }\n",
       "\n",
       "    .dataframe thead th {\n",
       "        text-align: right;\n",
       "    }\n",
       "</style>\n",
       "<table border=\"1\" class=\"dataframe\">\n",
       "  <thead>\n",
       "    <tr style=\"text-align: right;\">\n",
       "      <th></th>\n",
       "      <th>sepal_length</th>\n",
       "      <th>sepal_width</th>\n",
       "      <th>petal_length</th>\n",
       "      <th>petal_width</th>\n",
       "      <th>species</th>\n",
       "    </tr>\n",
       "  </thead>\n",
       "  <tbody>\n",
       "    <tr>\n",
       "      <th>0</th>\n",
       "      <td>5.1</td>\n",
       "      <td>3.5</td>\n",
       "      <td>1.4</td>\n",
       "      <td>0.2</td>\n",
       "      <td>Iris-setosa</td>\n",
       "    </tr>\n",
       "    <tr>\n",
       "      <th>1</th>\n",
       "      <td>4.9</td>\n",
       "      <td>3.0</td>\n",
       "      <td>1.4</td>\n",
       "      <td>0.2</td>\n",
       "      <td>Iris-setosa</td>\n",
       "    </tr>\n",
       "    <tr>\n",
       "      <th>2</th>\n",
       "      <td>4.7</td>\n",
       "      <td>3.2</td>\n",
       "      <td>1.3</td>\n",
       "      <td>0.2</td>\n",
       "      <td>Iris-setosa</td>\n",
       "    </tr>\n",
       "    <tr>\n",
       "      <th>3</th>\n",
       "      <td>4.6</td>\n",
       "      <td>3.1</td>\n",
       "      <td>1.5</td>\n",
       "      <td>0.2</td>\n",
       "      <td>Iris-setosa</td>\n",
       "    </tr>\n",
       "    <tr>\n",
       "      <th>4</th>\n",
       "      <td>5.0</td>\n",
       "      <td>3.6</td>\n",
       "      <td>1.4</td>\n",
       "      <td>0.2</td>\n",
       "      <td>Iris-setosa</td>\n",
       "    </tr>\n",
       "  </tbody>\n",
       "</table>\n",
       "</div>"
      ],
      "text/plain": [
       "   sepal_length  sepal_width  petal_length  petal_width      species\n",
       "0           5.1          3.5           1.4          0.2  Iris-setosa\n",
       "1           4.9          3.0           1.4          0.2  Iris-setosa\n",
       "2           4.7          3.2           1.3          0.2  Iris-setosa\n",
       "3           4.6          3.1           1.5          0.2  Iris-setosa\n",
       "4           5.0          3.6           1.4          0.2  Iris-setosa"
      ]
     },
     "execution_count": 2,
     "metadata": {},
     "output_type": "execute_result"
    }
   ],
   "source": [
    "df = pd.read_csv('Iris.csv')\n",
    "df.head()"
   ]
  },
  {
   "cell_type": "code",
   "execution_count": 3,
   "id": "7dcda8a3-a1d8-41a5-8eb9-98044d956d12",
   "metadata": {},
   "outputs": [],
   "source": [
    "df.drop_duplicates(keep = 'last', inplace = True)"
   ]
  },
  {
   "cell_type": "code",
   "execution_count": 4,
   "id": "29ccc752-0986-44ab-8a23-558d901bf6e1",
   "metadata": {},
   "outputs": [
    {
     "data": {
      "text/plain": [
       "sepal_length    0\n",
       "sepal_width     0\n",
       "petal_length    0\n",
       "petal_width     0\n",
       "species         0\n",
       "dtype: int64"
      ]
     },
     "execution_count": 4,
     "metadata": {},
     "output_type": "execute_result"
    }
   ],
   "source": [
    "df.isnull().sum()"
   ]
  },
  {
   "cell_type": "code",
   "execution_count": 5,
   "id": "c052572f-e0df-4320-98ea-62d74af743e1",
   "metadata": {},
   "outputs": [
    {
     "data": {
      "image/png": "[encoded data removed]",
      "text/plain": [
       "<Figure size 640x480 with 1 Axes>"
      ]
     },
     "metadata": {},
     "output_type": "display_data"
    }
   ],
   "source": [
    "plt.boxplot(df['sepal_width'])\n",
    "plt.show()"
   ]
  },
  {
   "cell_type": "code",
   "execution_count": 6,
   "id": "21a7d558-abec-4d16-8d85-66b2cbfb584c",
   "metadata": {},
   "outputs": [],
   "source": [
    "Q1 = df['sepal_width'].quantile(0.25)\n",
    "Q3 = df['sepal_width'].quantile(0.75)\n",
    "IQR = Q3 - Q1"
   ]
  },
  {
   "cell_type": "code",
   "execution_count": 7,
   "id": "a03b4eb1-f0a9-41d7-8a43-6d75954c90d0",
   "metadata": {},
   "outputs": [],
   "source": [
    "lb = Q1 - (1.5 * IQR)\n",
    "ub = Q3 + (1.5 * IQR)\n",
    "df = df[(df['sepal_width'] > lb) & (df['sepal_width'] < ub)]"
   ]
  },
  {
   "cell_type": "code",
   "execution_count": 8,
   "id": "ed59d500-06d8-4468-9c25-5d4e393f558f",
   "metadata": {},
   "outputs": [
    {
     "data": {
      "image/png": "[encoded data removed]",
      "text/plain": [
       "<Figure size 640x480 with 1 Axes>"
      ]
     },
     "metadata": {},
     "output_type": "display_data"
    }
   ],
   "source": [
    "plt.boxplot(df['sepal_width'])\n",
    "plt.show()"
   ]
  },
  {
   "cell_type": "code",
   "execution_count": 9,
   "id": "e1fb7d90-2b0c-4f68-af4c-a7af7e8f0410",
   "metadata": {},
   "outputs": [],
   "source": [
    "ivi = df[df['species'] == 'Iris-virginica']\n",
    "ive = df[df['species'] == 'Iris-versicolor']\n",
    "ivs = df[df['species'] == 'Iris-setosa']"
   ]
  },
  {
   "cell_type": "code",
   "execution_count": 10,
   "id": "c89449c1-015e-482e-be89-749f8ce54af9",
   "metadata": {},
   "outputs": [
    {
     "data": {
      "text/plain": [
       "<matplotlib.collections.PathCollection at 0x200e8abf4d0>"
      ]
     },
     "execution_count": 10,
     "metadata": {},
     "output_type": "execute_result"
    },
    {
     "data": {
      "image/png": "[encoded data removed]",
      "text/plain": [
       "<Figure size 640x480 with 1 Axes>"
      ]
     },
     "metadata": {},
     "output_type": "display_data"
    }
   ],
   "source": [
    "plt.scatter(ivi['sepal_length'], ivi['sepal_width'], marker = '*')\n",
    "plt.scatter(ive['sepal_length'], ive['sepal_width'], marker = '.', color = 'red')\n",
    "plt.scatter(ivs['sepal_length'], ivs['sepal_width'], marker = '^', color = 'green')"
   ]
  },
  {
   "cell_type": "code",
   "execution_count": 11,
   "id": "ef41ca37-aa21-4b4a-b993-52559290e5b3",
   "metadata": {},
   "outputs": [],
   "source": [
    "def target(value):\n",
    "    if value == 'Iris-virginica':\n",
    "        return 0\n",
    "    elif value == 'Iris-versicolor':\n",
    "        return 1\n",
    "    else:\n",
    "        return 2"
   ]
  },
  {
   "cell_type": "code",
   "execution_count": 12,
   "id": "fa8361dc-bb81-4e3d-98d3-dc37b8ff8160",
   "metadata": {},
   "outputs": [],
   "source": [
    "df['target'] = df['species'].apply(target)"
   ]
  },
  {
   "cell_type": "code",
   "execution_count": 13,
   "id": "cf7589f3-a9fe-4ae9-a5e7-e3611302b2a6",
   "metadata": {},
   "outputs": [
    {
     "data": {
      "text/html": [
       "<div>\n",
       "<style scoped>\n",
       "    .dataframe tbody tr th:only-of-type {\n",
       "        vertical-align: middle;\n",
       "    }\n",
       "\n",
       "    .dataframe tbody tr th {\n",
       "        vertical-align: top;\n",
       "    }\n",
       "\n",
       "    .dataframe thead th {\n",
       "        text-align: right;\n",
       "    }\n",
       "</style>\n",
       "<table border=\"1\" class=\"dataframe\">\n",
       "  <thead>\n",
       "    <tr style=\"text-align: right;\">\n",
       "      <th></th>\n",
       "      <th>sepal_length</th>\n",
       "      <th>sepal_width</th>\n",
       "      <th>petal_length</th>\n",
       "      <th>petal_width</th>\n",
       "      <th>species</th>\n",
       "      <th>target</th>\n",
       "    </tr>\n",
       "  </thead>\n",
       "  <tbody>\n",
       "    <tr>\n",
       "      <th>0</th>\n",
       "      <td>5.1</td>\n",
       "      <td>3.5</td>\n",
       "      <td>1.4</td>\n",
       "      <td>0.2</td>\n",
       "      <td>Iris-setosa</td>\n",
       "      <td>2</td>\n",
       "    </tr>\n",
       "    <tr>\n",
       "      <th>1</th>\n",
       "      <td>4.9</td>\n",
       "      <td>3.0</td>\n",
       "      <td>1.4</td>\n",
       "      <td>0.2</td>\n",
       "      <td>Iris-setosa</td>\n",
       "      <td>2</td>\n",
       "    </tr>\n",
       "    <tr>\n",
       "      <th>2</th>\n",
       "      <td>4.7</td>\n",
       "      <td>3.2</td>\n",
       "      <td>1.3</td>\n",
       "      <td>0.2</td>\n",
       "      <td>Iris-setosa</td>\n",
       "      <td>2</td>\n",
       "    </tr>\n",
       "    <tr>\n",
       "      <th>3</th>\n",
       "      <td>4.6</td>\n",
       "      <td>3.1</td>\n",
       "      <td>1.5</td>\n",
       "      <td>0.2</td>\n",
       "      <td>Iris-setosa</td>\n",
       "      <td>2</td>\n",
       "    </tr>\n",
       "    <tr>\n",
       "      <th>4</th>\n",
       "      <td>5.0</td>\n",
       "      <td>3.6</td>\n",
       "      <td>1.4</td>\n",
       "      <td>0.2</td>\n",
       "      <td>Iris-setosa</td>\n",
       "      <td>2</td>\n",
       "    </tr>\n",
       "  </tbody>\n",
       "</table>\n",
       "</div>"
      ],
      "text/plain": [
       "   sepal_length  sepal_width  petal_length  petal_width      species  target\n",
       "0           5.1          3.5           1.4          0.2  Iris-setosa       2\n",
       "1           4.9          3.0           1.4          0.2  Iris-setosa       2\n",
       "2           4.7          3.2           1.3          0.2  Iris-setosa       2\n",
       "3           4.6          3.1           1.5          0.2  Iris-setosa       2\n",
       "4           5.0          3.6           1.4          0.2  Iris-setosa       2"
      ]
     },
     "execution_count": 13,
     "metadata": {},
     "output_type": "execute_result"
    }
   ],
   "source": [
    "df.head()"
   ]
  },
  {
   "cell_type": "code",
   "execution_count": 14,
   "id": "8e2aac29-8728-4ac6-a0ba-760e8d8fda7b",
   "metadata": {},
   "outputs": [],
   "source": [
    "df.drop('species', axis = 1, inplace = True)"
   ]
  },
  {
   "cell_type": "code",
   "execution_count": 15,
   "id": "5c6e2e7d-f894-409a-ac6c-cdadabb6f9f5",
   "metadata": {},
   "outputs": [],
   "source": [
    "x = np.array(df[['sepal_length', 'sepal_width', 'petal_length', 'petal_width']])\n",
    "y = np.array(df[['target']])"
   ]
  },
  {
   "cell_type": "code",
   "execution_count": 16,
   "id": "a0e56431-fe82-4ff6-bb80-941dfa102b15",
   "metadata": {},
   "outputs": [],
   "source": [
    "x_train, x_test, y_train, y_test = train_test_split(x, y, test_size = 0.3, random_state = 43)"
   ]
  },
  {
   "cell_type": "code",
   "execution_count": 17,
   "id": "e4e154aa-1e7b-4508-aba1-6220be23b9ed",
   "metadata": {},
   "outputs": [],
   "source": [
    "model = DecisionTreeClassifier(criterion='gini', splitter='best', max_depth=None, min_samples_split=2, min_samples_leaf=1, min_weight_fraction_leaf=0.0)"
   ]
  },
  {
   "cell_type": "code",
   "execution_count": 18,
   "id": "4294c898-c32f-415c-9467-5f02562c3b75",
   "metadata": {},
   "outputs": [
    {
     "data": {
      "text/html": [
       "<style>#sk-container-id-1 {color: black;}#sk-container-id-1 pre{padding: 0;}#sk-container-id-1 div.sk-toggleable {background-color: white;}#sk-container-id-1 label.sk-toggleable__label {cursor: pointer;display: block;width: 100%;margin-bottom: 0;padding: 0.3em;box-sizing: border-box;text-align: center;}#sk-container-id-1 label.sk-toggleable__label-arrow:before {content: \"▸\";float: left;margin-right: 0.25em;color: #696969;}#sk-container-id-1 label.sk-toggleable__label-arrow:hover:before {color: black;}#sk-container-id-1 div.sk-estimator:hover label.sk-toggleable__label-arrow:before {color: black;}#sk-container-id-1 div.sk-toggleable__content {max-height: 0;max-width: 0;overflow: hidden;text-align: left;background-color: #f0f8ff;}#sk-container-id-1 div.sk-toggleable__content pre {margin: 0.2em;color: black;border-radius: 0.25em;background-color: #f0f8ff;}#sk-container-id-1 input.sk-toggleable__control:checked~div.sk-toggleable__content {max-height: 200px;max-width: 100%;overflow: auto;}#sk-container-id-1 input.sk-toggleable__control:checked~label.sk-toggleable__label-arrow:before {content: \"▾\";}#sk-container-id-1 div.sk-estimator input.sk-toggleable__control:checked~label.sk-toggleable__label {background-color: #d4ebff;}#sk-container-id-1 div.sk-label input.sk-toggleable__control:checked~label.sk-toggleable__label {background-color: #d4ebff;}#sk-container-id-1 input.sk-hidden--visually {border: 0;clip: rect(1px 1px 1px 1px);clip: rect(1px, 1px, 1px, 1px);height: 1px;margin: -1px;overflow: hidden;padding: 0;position: absolute;width: 1px;}#sk-container-id-1 div.sk-estimator {font-family: monospace;background-color: #f0f8ff;border: 1px dotted black;border-radius: 0.25em;box-sizing: border-box;margin-bottom: 0.5em;}#sk-container-id-1 div.sk-estimator:hover {background-color: #d4ebff;}#sk-container-id-1 div.sk-parallel-item::after {content: \"\";width: 100%;border-bottom: 1px solid gray;flex-grow: 1;}#sk-container-id-1 div.sk-label:hover label.sk-toggleable__label {background-color: #d4ebff;}#sk-container-id-1 div.sk-serial::before {content: \"\";position: absolute;border-left: 1px solid gray;box-sizing: border-box;top: 0;bottom: 0;left: 50%;z-index: 0;}#sk-container-id-1 div.sk-serial {display: flex;flex-direction: column;align-items: center;background-color: white;padding-right: 0.2em;padding-left: 0.2em;position: relative;}#sk-container-id-1 div.sk-item {position: relative;z-index: 1;}#sk-container-id-1 div.sk-parallel {display: flex;align-items: stretch;justify-content: center;background-color: white;position: relative;}#sk-container-id-1 div.sk-item::before, #sk-container-id-1 div.sk-parallel-item::before {content: \"\";position: absolute;border-left: 1px solid gray;box-sizing: border-box;top: 0;bottom: 0;left: 50%;z-index: -1;}#sk-container-id-1 div.sk-parallel-item {display: flex;flex-direction: column;z-index: 1;position: relative;background-color: white;}#sk-container-id-1 div.sk-parallel-item:first-child::after {align-self: flex-end;width: 50%;}#sk-container-id-1 div.sk-parallel-item:last-child::after {align-self: flex-start;width: 50%;}#sk-container-id-1 div.sk-parallel-item:only-child::after {width: 0;}#sk-container-id-1 div.sk-dashed-wrapped {border: 1px dashed gray;margin: 0 0.4em 0.5em 0.4em;box-sizing: border-box;padding-bottom: 0.4em;background-color: white;}#sk-container-id-1 div.sk-label label {font-family: monospace;font-weight: bold;display: inline-block;line-height: 1.2em;}#sk-container-id-1 div.sk-label-container {text-align: center;}#sk-container-id-1 div.sk-container {/* jupyter's `normalize.less` sets `[hidden] { display: none; }` but bootstrap.min.css set `[hidden] { display: none !important; }` so we also need the `!important` here to be able to override the default hidden behavior on the sphinx rendered scikit-learn.org. See: https://github.com/scikit-learn/scikit-learn/issues/21755 */display: inline-block !important;position: relative;}#sk-container-id-1 div.sk-text-repr-fallback {display: none;}</style><div id=\"sk-container-id-1\" class=\"sk-top-container\"><div class=\"sk-text-repr-fallback\"><pre>DecisionTreeClassifier()</pre><b>In a Jupyter environment, please rerun this cell to show the HTML representation or trust the notebook. <br />On GitHub, the HTML representation is unable to render, please try loading this page with nbviewer.org.</b></div><div class=\"sk-container\" hidden><div class=\"sk-item\"><div class=\"sk-estimator sk-toggleable\"><input class=\"sk-toggleable__control sk-hidden--visually\" id=\"sk-estimator-id-1\" type=\"checkbox\" checked><label for=\"sk-estimator-id-1\" class=\"sk-toggleable__label sk-toggleable__label-arrow\">DecisionTreeClassifier</label><div class=\"sk-toggleable__content\"><pre>DecisionTreeClassifier()</pre></div></div></div></div></div>"
      ],
      "text/plain": [
       "DecisionTreeClassifier()"
      ]
     },
     "execution_count": 18,
     "metadata": {},
     "output_type": "execute_result"
    }
   ],
   "source": [
    "model.fit(x_train, y_train)"
   ]
  },
  {
   "cell_type": "code",
   "execution_count": 19,
   "id": "2657dbb6-67c8-48ea-8f5e-a89fb4a4c14e",
   "metadata": {},
   "outputs": [
    {
     "data": {
      "text/plain": [
       "array([1, 1, 0, 1, 1, 2, 0, 0, 1, 1, 0, 1, 1, 0, 1, 2, 2, 1, 0, 2, 2, 0,\n",
       "       1, 2, 2, 1, 2, 2, 1, 0, 1, 2, 2, 1, 1, 0, 0, 0, 1, 0, 0, 0, 2],\n",
       "      dtype=int64)"
      ]
     },
     "execution_count": 19,
     "metadata": {},
     "output_type": "execute_result"
    }
   ],
   "source": [
    "y_predict = model.predict(x_test)\n",
    "y_predict"
   ]
  },
  {
   "cell_type": "code",
   "execution_count": 20,
   "id": "29000dde-0c6c-4007-87e0-a6c08f2007ea",
   "metadata": {},
   "outputs": [],
   "source": [
    "labels = ['Iris-virginica', 'Iris-versicolor', 'Iris-setosa']"
   ]
  },
  {
   "cell_type": "code",
   "execution_count": 21,
   "id": "fdf6e4ab-7927-444f-8420-9ac2b6699d72",
   "metadata": {},
   "outputs": [],
   "source": [
    "cm = confusion_matrix(y_test, y_predict)"
   ]
  },
  {
   "cell_type": "code",
   "execution_count": 22,
   "id": "e8024b39-efa4-4df5-9752-b579f7e57bd1",
   "metadata": {},
   "outputs": [
    {
     "data": {
      "text/plain": [
       "Text(50.72222222222221, 0.5, 'Actual')"
      ]
     },
     "execution_count": 22,
     "metadata": {},
     "output_type": "execute_result"
    },
    {
     "data": {
      "image/png": "[encoded data removed]",
      "text/plain": [
       "<Figure size 640x480 with 2 Axes>"
      ]
     },
     "metadata": {},
     "output_type": "display_data"
    }
   ],
   "source": [
    "import seaborn as sns\n",
    "sns.heatmap(cm, fmt = 'd', cmap = 'Blues', xticklabels = labels, yticklabels = labels, annot = True)\n",
    "plt.xlabel('Predicted')\n",
    "plt.ylabel('Actual')"
   ]
  },
  {
   "cell_type": "code",
   "execution_count": 23,
   "id": "f56a37c9-9d5c-42d8-a471-a682c9f1388c",
   "metadata": {},
   "outputs": [],
   "source": [
    "from sklearn.metrics import accuracy_score, precision_score, recall_score, f1_score, roc_curve, auc"
   ]
  },
  {
   "cell_type": "code",
   "execution_count": 24,
   "id": "2a1c03f4-f0d9-48ad-8579-f26c44d54d60",
   "metadata": {},
   "outputs": [
    {
     "name": "stdout",
     "output_type": "stream",
     "text": [
      "Accuracy Score: 0.9534883720930233\n",
      "Precision Score: 0.9534883720930233\n",
      "Recall Score: 0.9649122807017544\n",
      "F1-Score: 0.9558404558404558\n"
     ]
    }
   ],
   "source": [
    "print(\"Accuracy Score:\", accuracy_score(y_test, y_predict))\n",
    "print(\"Precision Score:\", precision_score(y_test, y_predict, average=\"micro\"))\n",
    "print(\"Recall Score:\", recall_score(y_test, y_predict, average = \"macro\"))\n",
    "print(\"F1-Score:\", f1_score(y_test, y_predict, average=\"macro\"))\n"
   ]
  },
  {
   "cell_type": "code",
   "execution_count": 25,
   "id": "db45b04b-78ab-4c73-b824-0a511dde316b",
   "metadata": {},
   "outputs": [],
   "source": [
    "for i in range(len(y_predict)):\n",
    "    if(y_predict[i] == 2):\n",
    "        y_predict[i] = 1\n",
    "    if(y_test[i] == 2):\n",
    "        y_test[i] = 1"
   ]
  },
  {
   "cell_type": "code",
   "execution_count": 26,
   "id": "3f292108-0a1d-406e-ac40-3ba412ca0634",
   "metadata": {},
   "outputs": [],
   "source": [
    "fpr, tpr, threshold = roc_curve(y_test, y_predict)\n",
    "auc = auc(fpr, tpr)"
   ]
  },
  {
   "cell_type": "code",
   "execution_count": 27,
   "id": "9fc73842-161a-4a61-84bb-015894ec6b09",
   "metadata": {},
   "outputs": [
    {
     "data": {
      "image/png": "[encoded data removed]",
      "text/plain": [
       "<Figure size 640x480 with 1 Axes>"
      ]
     },
     "metadata": {},
     "output_type": "display_data"
    }
   ],
   "source": [
    "plt.plot(fpr, tpr, linestyle = '-', label = 'KNN (auc = %0.3f)'%auc)\n",
    "plt.plot([0,1], [0,1], color = 'red', linewidth = 2, linestyle = '--')\n",
    "plt.xlabel('False Postive Rate')\n",
    "plt.ylabel('True Postive Rate')\n",
    "plt.show()"
   ]
  },
  {
   "cell_type": "code",
   "execution_count": null,
   "id": "77862cd0-a069-44c1-a9e3-4897894c51f4",
   "metadata": {},
   "outputs": [],
   "source": []
  }
 ],
 "metadata": {
  "kernelspec": {
   "display_name": "Python 3 (ipykernel)",
   "language": "python",
   "name": "python3"
  },
  "language_info": {
   "codemirror_mode": {
    "name": "ipython",
    "version": 3
   },
   "file_extension": ".py",
   "mimetype": "text/x-python",
   "name": "python",
   "nbconvert_exporter": "python",
   "pygments_lexer": "ipython3",
   "version": "3.11.4"
  }
 },
 "nbformat": 4,
 "nbformat_minor": 5
}
